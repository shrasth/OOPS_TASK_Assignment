{
 "cells": [
  {
   "cell_type": "markdown",
   "id": "efaaaafa-2954-495b-8b0a-78c928466461",
   "metadata": {},
   "source": [
    "**Q1, Create a vehicle class with an init method having instance variables as name_of_vehicle, max_speed\n",
    "and average_of_vehicle.**"
   ]
  },
  {
   "cell_type": "code",
   "execution_count": 35,
   "id": "317c974a-b453-4329-bbb6-bc9a8bcf7a5b",
   "metadata": {},
   "outputs": [],
   "source": [
    "class Vehicle:\n",
    "    def __init__(self, name_of_vehicle, max_speed, average_speed):\n",
    "        self.name_of_vehicle = name_of_vehicle\n",
    "        self.max_speed = max_speed\n",
    "        self.average_speed = average_speed"
   ]
  },
  {
   "cell_type": "code",
   "execution_count": 36,
   "id": "e245a494-5503-46b8-99bd-33333dc5f3e9",
   "metadata": {},
   "outputs": [],
   "source": [
    "car = Vehicle(\"Swift\", 200,100)"
   ]
  },
  {
   "cell_type": "code",
   "execution_count": 37,
   "id": "5fbdf021-af9c-4036-b947-0730540205cb",
   "metadata": {},
   "outputs": [
    {
     "data": {
      "text/plain": [
       "'Swift'"
      ]
     },
     "execution_count": 37,
     "metadata": {},
     "output_type": "execute_result"
    }
   ],
   "source": [
    "car.name_of_vehicle"
   ]
  },
  {
   "cell_type": "code",
   "execution_count": 38,
   "id": "57d36282-79f4-4345-bbe5-4df92790d014",
   "metadata": {},
   "outputs": [
    {
     "data": {
      "text/plain": [
       "200"
      ]
     },
     "execution_count": 38,
     "metadata": {},
     "output_type": "execute_result"
    }
   ],
   "source": [
    "car.max_speed"
   ]
  },
  {
   "cell_type": "code",
   "execution_count": 39,
   "id": "390d4142-44ad-4ab7-aa3a-a1459ce84315",
   "metadata": {},
   "outputs": [
    {
     "data": {
      "text/plain": [
       "100"
      ]
     },
     "execution_count": 39,
     "metadata": {},
     "output_type": "execute_result"
    }
   ],
   "source": [
    "car.average_speed"
   ]
  },
  {
   "cell_type": "code",
   "execution_count": null,
   "id": "b6aad598-20c7-4a33-bf21-b9ac1572bb43",
   "metadata": {},
   "outputs": [],
   "source": []
  },
  {
   "cell_type": "markdown",
   "id": "60166ebd-aa65-4fc3-851f-98f0d4a42e3d",
   "metadata": {},
   "source": [
    "**Q2. Create a child class car from the vehicle class created in Que 1, which will inherit the vehicle class.\n",
    "Create a method named seating_capacity which takes capacity as an argument and returns the name of\n",
    "the vehicle and its seating capacity.**"
   ]
  },
  {
   "cell_type": "code",
   "execution_count": 47,
   "id": "f3c5ac0e-6272-4c23-b550-93b5618e86ce",
   "metadata": {},
   "outputs": [],
   "source": [
    "class Car(Vehicle):\n",
    "    def seating_capacity(self, capacity):\n",
    "        return f\"Vehicle name: {self.name_of_vehicle} and Capacity: {capacity}\""
   ]
  },
  {
   "cell_type": "code",
   "execution_count": 50,
   "id": "a3f8e772-562a-47c3-93f9-538d2e3e7588",
   "metadata": {},
   "outputs": [],
   "source": [
    "car = Car(\"Swift\", 200,100)"
   ]
  },
  {
   "cell_type": "code",
   "execution_count": 51,
   "id": "9c3cebc8-d885-457d-8834-e757005d611b",
   "metadata": {},
   "outputs": [
    {
     "data": {
      "text/plain": [
       "'Vehicle name: Swift and Capacity: 4'"
      ]
     },
     "execution_count": 51,
     "metadata": {},
     "output_type": "execute_result"
    }
   ],
   "source": [
    "capacity = 4\n",
    "car.seating_capacity(capacity)"
   ]
  },
  {
   "cell_type": "code",
   "execution_count": null,
   "id": "a67bc783-68dc-4b3d-b082-e450f24e06d9",
   "metadata": {},
   "outputs": [],
   "source": []
  },
  {
   "cell_type": "markdown",
   "id": "ad417f33-240a-4735-8819-d2cbfb0d8605",
   "metadata": {},
   "source": [
    "**Q3. What is multiple inheritance? Write a python code to demonstrate multiple inheritance.**"
   ]
  },
  {
   "cell_type": "markdown",
   "id": "6d153843-b8de-4b87-aee3-8d5661522de4",
   "metadata": {},
   "source": [
    "**Multiple Inheritance**: When a class can be derived from more than one base class."
   ]
  },
  {
   "cell_type": "code",
   "execution_count": 54,
   "id": "70717abe-6068-4bc7-b1e5-b7676e1d9fef",
   "metadata": {},
   "outputs": [],
   "source": [
    "#Example of Multiple Inheritance\n",
    "\n",
    "class Mother:\n",
    "    mothername = \"\"\n",
    " \n",
    "    def mother(self):\n",
    "        print(self.mothername)\n",
    "\n",
    "class Father:\n",
    "    fathername= \"\"\n",
    " \n",
    "    def father(self):\n",
    "        print(self.fathername)\n",
    "\n",
    "class Son(Mother , Father):\n",
    "    def parents(self):\n",
    "        print(f\"I call my father as {self.fathername} and mother as {self.mothername}\")"
   ]
  },
  {
   "cell_type": "code",
   "execution_count": 55,
   "id": "88c0ee5e-05ae-419a-a6d7-1001fe57bd2f",
   "metadata": {},
   "outputs": [
    {
     "name": "stdout",
     "output_type": "stream",
     "text": [
      "I call my father as Paa and mother as Maa\n"
     ]
    }
   ],
   "source": [
    "s1 = Son()\n",
    "s1.fathername = \"Paa\"\n",
    "s1.mothername = \"Maa\"\n",
    "s1.parents()"
   ]
  },
  {
   "cell_type": "code",
   "execution_count": null,
   "id": "936ebdd2-28bd-44c6-9f86-5b2c8c663af1",
   "metadata": {},
   "outputs": [],
   "source": []
  },
  {
   "cell_type": "markdown",
   "id": "aec37325-69be-4d1d-8ea7-e979d31b6de2",
   "metadata": {},
   "source": [
    "**Q4. What are getter and setter in python? Create a class and create a getter and a setter method in this\n",
    "class.**"
   ]
  },
  {
   "cell_type": "markdown",
   "id": "e94cef82-cf07-45f0-b038-996ebd4ec7f7",
   "metadata": {},
   "source": [
    "getter and setters are methods used to retrieve and modify the valuesof private attributes in a class."
   ]
  },
  {
   "cell_type": "code",
   "execution_count": 18,
   "id": "b0a6d7ed-ffdd-4633-9ddc-079690f6f676",
   "metadata": {},
   "outputs": [],
   "source": [
    "##Example of getter and setter\n",
    "\n",
    "class Circle:\n",
    "    def __init__(self, radius):\n",
    "        self.__radius = radius\n",
    "\n",
    "        \n",
    "    @property\n",
    "    def radius(self):\n",
    "        return  self.__radius\n",
    "    \n",
    "    @radius.setter\n",
    "    def radius_ck(self, value):\n",
    "        if value > 0:\n",
    "            self.__radius = value        \n",
    "        else:\n",
    "            pass"
   ]
  },
  {
   "cell_type": "code",
   "execution_count": 21,
   "id": "43eda999-0ab2-4dfe-bb73-68c765855228",
   "metadata": {},
   "outputs": [],
   "source": [
    "rect = Circle(4)"
   ]
  },
  {
   "cell_type": "code",
   "execution_count": 22,
   "id": "4ba9aa40-f5d8-4ea0-86f1-e65772b72da0",
   "metadata": {},
   "outputs": [
    {
     "data": {
      "text/plain": [
       "4"
      ]
     },
     "execution_count": 22,
     "metadata": {},
     "output_type": "execute_result"
    }
   ],
   "source": [
    "rect.radius"
   ]
  },
  {
   "cell_type": "code",
   "execution_count": 23,
   "id": "093f3fe5-9ccc-48be-9df4-98d4c8c7ed46",
   "metadata": {},
   "outputs": [],
   "source": [
    "rect.radius_ck = 0"
   ]
  },
  {
   "cell_type": "code",
   "execution_count": 24,
   "id": "a60a2ab6-1ee7-45a7-89cc-4d50ec4f7cdc",
   "metadata": {},
   "outputs": [],
   "source": [
    "rect.radius_ck = 6"
   ]
  },
  {
   "cell_type": "code",
   "execution_count": 25,
   "id": "4a47e5d6-0a05-425c-854d-23f6a5e5122d",
   "metadata": {},
   "outputs": [
    {
     "data": {
      "text/plain": [
       "6"
      ]
     },
     "execution_count": 25,
     "metadata": {},
     "output_type": "execute_result"
    }
   ],
   "source": [
    "rect.radius"
   ]
  },
  {
   "cell_type": "code",
   "execution_count": null,
   "id": "3f57c962-0ff6-45b0-a585-28a49769836f",
   "metadata": {},
   "outputs": [],
   "source": []
  },
  {
   "cell_type": "markdown",
   "id": "a19f402e-9230-4f83-b592-f2c5ee2b7036",
   "metadata": {},
   "source": [
    "**Q5.What is method overriding in python? Write a python code to demonstrate method overriding.**"
   ]
  },
  {
   "cell_type": "markdown",
   "id": "00176039-d2ab-45cc-bf67-3b237cb4eadd",
   "metadata": {},
   "source": [
    "Method overiding is where subclass provides a different implementation of a method that is already defined in its parent class."
   ]
  },
  {
   "cell_type": "code",
   "execution_count": 56,
   "id": "8534d82a-373c-488d-9cbf-04ca5d975d05",
   "metadata": {},
   "outputs": [],
   "source": [
    "class Vehicle:\n",
    "    def start_engine(self):\n",
    "        print(\"Engine started\")\n",
    "        \n",
    "class Car(Vehicle):\n",
    "    def start_engine(self):\n",
    "        print(\"Car engine started\")"
   ]
  },
  {
   "cell_type": "code",
   "execution_count": 57,
   "id": "709f1981-eaed-41d7-a045-a7f0f4faff5e",
   "metadata": {},
   "outputs": [],
   "source": [
    "veh = Vehicle()\n",
    "car =Car()"
   ]
  },
  {
   "cell_type": "code",
   "execution_count": 63,
   "id": "466238b8-fefb-4513-aa04-8df20c9238bb",
   "metadata": {},
   "outputs": [
    {
     "name": "stdout",
     "output_type": "stream",
     "text": [
      "Engine started\n",
      "Car engine started\n"
     ]
    }
   ],
   "source": [
    "veh.start_engine()\n",
    "car.start_engine()"
   ]
  }
 ],
 "metadata": {
  "kernelspec": {
   "display_name": "Python 3 (ipykernel)",
   "language": "python",
   "name": "python3"
  },
  "language_info": {
   "codemirror_mode": {
    "name": "ipython",
    "version": 3
   },
   "file_extension": ".py",
   "mimetype": "text/x-python",
   "name": "python",
   "nbconvert_exporter": "python",
   "pygments_lexer": "ipython3",
   "version": "3.10.8"
  }
 },
 "nbformat": 4,
 "nbformat_minor": 5
}
